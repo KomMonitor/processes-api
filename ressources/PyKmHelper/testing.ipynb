{
 "cells": [
  {
   "cell_type": "code",
   "execution_count": null,
   "metadata": {},
   "outputs": [],
   "source": [
    "import turf\n",
    "import geopandas as gpd\n",
    "import geojson\n",
    "import shapely\n",
    "import fiona \n",
    "import pyinstrument\n",
    "import time\n",
    "import ogr, os\n",
    "from progress.bar import Bar\n",
    "import "
   ]
  },
  {
   "cell_type": "markdown",
   "metadata": {},
   "source": [
    "Vergleich Datenformate einlesen, schreiben, Speicheraufwand"
   ]
  },
  {
   "cell_type": "markdown",
   "metadata": {},
   "source": [
    "Das einlesen von Shape und GeoJSON weist mit zunehmender Dateigröße doch große Unterschiede auf bei Polygondateien von 77mb (Shape) und 83mb (geoJSON) benötigt geoJson ca 3mal solange zum einlesen. "
   ]
  },
  {
   "cell_type": "code",
   "execution_count": null,
   "metadata": {},
   "outputs": [],
   "source": [
    "with pyinstrument.profile():\n",
    "    hushape = gpd.read_file(r\"C:\\Users\\nikoe\\Documents\\Studium\\SHK_Kessler\\Kommonitor_pygeoapi\\Test_pyturf_etc\\hu_EPSG25832_Shape\\hu_shp.shp\")"
   ]
  },
  {
   "cell_type": "code",
   "execution_count": 10,
   "metadata": {},
   "outputs": [
    {
     "name": "stderr",
     "output_type": "stream",
     "text": [
      "\n",
      "pyinstrument ........................................\n",
      ".\n",
      ".  Block at C:\\Users\\nikoe\\AppData\\Local\\Temp\\ipykernel_16824\\3761691688.py:2\n",
      ".\n",
      ".  7.129 <module>  C:\\Users\\nikoe\\AppData\\Local\\Temp\\ipykernel_16824\\3761691688.py:2\n",
      ".  └─ 7.122 _read_file  geopandas\\io\\file.py:173\n",
      ".        [45 frames hidden]  geopandas, shapely, <built-in>, fiona...\n",
      ".  \n",
      ".....................................................\n",
      "\n",
      "\n",
      "pyinstrument ........................................\n",
      ".\n",
      ".  Block at C:\\Users\\nikoe\\AppData\\Local\\Temp\\ipykernel_16824\\3761691688.py:7\n",
      ".\n",
      ".  5.914 <module>  C:\\Users\\nikoe\\AppData\\Local\\Temp\\ipykernel_16824\\3761691688.py:7\n",
      ".  └─ 5.907 _read_file  geopandas\\io\\file.py:173\n",
      ".        [45 frames hidden]  geopandas, shapely, <built-in>, fiona...\n",
      ".  \n",
      ".....................................................\n",
      "\n",
      "\n",
      "pyinstrument ........................................\n",
      ".\n",
      ".  Block at C:\\Users\\nikoe\\AppData\\Local\\Temp\\ipykernel_16824\\3761691688.py:10\n",
      ".\n",
      ".  16.708 <module>  C:\\Users\\nikoe\\AppData\\Local\\Temp\\ipykernel_16824\\3761691688.py:10\n",
      ".  └─ 16.702 _read_file  geopandas\\io\\file.py:173\n",
      ".        [23 frames hidden]  geopandas, shapely, <built-in>, fiona...\n",
      ".           11.535 GeoDataFrame.from_features  geopandas\\geodataframe.py:567\n",
      ".           └─ 6.989 [self]  geopandas\\geodataframe.py\n",
      ".           5.154 Collection.__init__  fiona\\collection.py:51\n",
      ".  \n",
      ".....................................................\n",
      "\n"
     ]
    }
   ],
   "source": [
    "# Vergleich Datenformat: einlesen \n",
    "with pyinstrument.profile():\n",
    "    # gemShape = gpd.read_file(\"./dvg2_EPSG25832_Shape/dvg2gem_nw.shp\")\n",
    "    # schoolShape = gpd.read_file(\"./SchulenNRW_EPSG25832_Shape/schulen.shp\")\n",
    "    canopyShape = gpd.read_file(\"testoutcanopyshape.shp\")\n",
    "\n",
    "with pyinstrument.profile():\n",
    "    canopygpkg = gpd.read_file(\"testoutcanopygpkg.gpkg\")\n",
    "\n",
    "with pyinstrument.profile():\n",
    "    canopyjson = gpd.read_file(\"Canopy.geojson\")"
   ]
  },
  {
   "cell_type": "markdown",
   "metadata": {},
   "source": [
    "Das schreiben von Daten aus einem GeoDataFrame in eine Shape oder geoJson Datei weist ebenfalls gravierende Unterschiede auf. Gleiche Größe wie beim einlesen, das schreiben der geojson Datei benötigt etwa 7 mal so lange wie das einer Shape Datei. "
   ]
  },
  {
   "cell_type": "code",
   "execution_count": 11,
   "metadata": {},
   "outputs": [
    {
     "name": "stderr",
     "output_type": "stream",
     "text": [
      "\n",
      "pyinstrument ........................................\n",
      ".\n",
      ".  Block at C:\\Users\\nikoe\\AppData\\Local\\Temp\\ipykernel_16824\\3603555113.py:2\n",
      ".\n",
      ".  5.156 <module>  C:\\Users\\nikoe\\AppData\\Local\\Temp\\ipykernel_16824\\3603555113.py:2\n",
      ".  └─ 5.156 GeoDataFrame.to_file  geopandas\\geodataframe.py:1157\n",
      ".        [54 frames hidden]  geopandas, fiona, shapely, <built-in>...\n",
      ".           1.398 CoordinateSequence.__iter__  shapely\\coords.py:26\n",
      ".           └─ 1.051 [self]  shapely\\coords.py\n",
      ".  \n",
      ".....................................................\n",
      "\n",
      "\n",
      "pyinstrument ........................................\n",
      ".\n",
      ".  Block at C:\\Users\\nikoe\\AppData\\Local\\Temp\\ipykernel_16824\\3603555113.py:7\n",
      ".\n",
      ".  4.937 <module>  C:\\Users\\nikoe\\AppData\\Local\\Temp\\ipykernel_16824\\3603555113.py:7\n",
      ".  └─ 4.937 GeoDataFrame.to_file  geopandas\\geodataframe.py:1157\n",
      ".        [62 frames hidden]  geopandas, fiona, shapely, <built-in>...\n",
      ".           1.326 CoordinateSequence.__iter__  shapely\\coords.py:26\n",
      ".           └─ 1.040 [self]  shapely\\coords.py\n",
      ".  \n",
      ".....................................................\n",
      "\n",
      "\n",
      "pyinstrument ........................................\n",
      ".\n",
      ".  Block at C:\\Users\\nikoe\\AppData\\Local\\Temp\\ipykernel_16824\\3603555113.py:10\n",
      ".\n",
      ".  38.181 <module>  C:\\Users\\nikoe\\AppData\\Local\\Temp\\ipykernel_16824\\3603555113.py:10\n",
      ".  └─ 38.181 GeoDataFrame.to_file  geopandas\\geodataframe.py:1157\n",
      ".        [6 frames hidden]  geopandas, shapely\n",
      ".           38.144 Collection.writerecords  fiona\\collection.py:552\n",
      ".           └─ 36.235 [self]  fiona\\collection.py\n",
      ".  \n",
      ".....................................................\n",
      "\n"
     ]
    }
   ],
   "source": [
    "# Vergleich Datenformat: schreiben \n",
    "with pyinstrument.profile():\n",
    "    # gemShape.to_file(\"testoutshape.shp\", DRIVER=\"Shape\")\n",
    "    # schoolShape.to_file(\"testoutschoolshape.shp\", DRIVER=\"Shape\")\n",
    "    # canopyShape.to_file(\"testoutcanopyshape.shp\", DRIVER=\"shape\")\n",
    "\n",
    "with pyinstrument.profile():\n",
    "    # canopygpkg.to_file(\"testoutcanopygpkg.gpkg\", DRIVER=\"GPKG\")\n",
    "\n",
    "with pyinstrument.profile():\n",
    "    # canopyjson.to_file(\"testoutcanopyjson.geojson\", DRIVER=\"geojson\")\n"
   ]
  },
  {
   "cell_type": "code",
   "execution_count": 3,
   "metadata": {},
   "outputs": [],
   "source": [
    "with Bar('Processing...') as bar:\n",
    "    for i in range(100):\n",
    "        time.sleep(0.02)\n",
    "        bar.next()"
   ]
  },
  {
   "cell_type": "code",
   "execution_count": 2,
   "metadata": {},
   "outputs": [
    {
     "name": "stdout",
     "output_type": "stream",
     "text": [
      "    col1                                       geometry\n",
      "0  name1                        POINT (1.00000 2.00000)\n",
      "1  name2  LINESTRING (2.00000 1.00000, 1.00000 2.00000)\n"
     ]
    }
   ],
   "source": [
    "from shapely.geometry import Point, LineString\n",
    "import geopandas\n",
    "d = {'col1': ['name1', 'name2'], 'geometry': [Point(1, 2), LineString([[2, 1],[1, 2]])]}\n",
    "gdf = geopandas.GeoDataFrame(d, crs=\"EPSG:4326\")\n",
    "dict = {\"test\": gdf}\n",
    "print(dict[\"test\"])"
   ]
  },
  {
   "cell_type": "code",
   "execution_count": 2,
   "metadata": {},
   "outputs": [
    {
     "data": {
      "text/plain": [
       "{\"geometry\": {\"coordinates\": [4.5, 4.5], \"type\": \"Point\"}, \"properties\": {}, \"type\": \"Feature\"}"
      ]
     },
     "execution_count": 2,
     "metadata": {},
     "output_type": "execute_result"
    }
   ],
   "source": [
    "import geojson.feature\n",
    "import geopandas.geodataframe\n",
    "import shapely\n",
    "import geojson\n",
    "import index\n",
    "\n",
    "feature2 = {\n",
    "  \"type\": \"FeatureCollection\",\n",
    "  \"features\": [\n",
    "    {\n",
    "      \"type\": \"Feature\",\n",
    "      \"geometry\": {\n",
    "        \"type\": \"LineString\",\n",
    "        \"coordinates\": [\n",
    "          [10.0, 10.0],\n",
    "          [11.0, 11.0],\n",
    "          [12.0, 10.0]\n",
    "        ]\n",
    "      },\n",
    "      \"properties\": {\n",
    "        \"name\": \"Line 1\",\n",
    "        \"length\": 3.1622776601683795,\n",
    "        \"color\": \"blue\"\n",
    "      }\n",
    "    },\n",
    "    {\n",
    "      \"type\": \"Feature\",\n",
    "      \"geometry\": {\n",
    "        \"type\": \"LineString\",\n",
    "        \"coordinates\": [\n",
    "          [15.0, 10.0],\n",
    "          [17.0, 12.0],\n",
    "          [19.0, 10.0]\n",
    "        ]\n",
    "      },\n",
    "      \"properties\": {\n",
    "        \"name\": \"Line 2\",\n",
    "        \"length\": 5.385164807134504,\n",
    "        \"color\": \"red\"\n",
    "      }\n",
    "    }\n",
    "  ]\n",
    "}\n",
    "\n",
    "feature1 = {\n",
    "      \"type\": \"Feature\",\n",
    "      \"geometry\": {\n",
    "        \"type\": \"Polygon\",\n",
    "        \"coordinates\": [[\n",
    "              [0,0],\n",
    "              [10,0],\n",
    "              [10,1],\n",
    "              [1,1],\n",
    "              [1,9],\n",
    "              [10,9],\n",
    "              [10,10],\n",
    "              [0,10]\n",
    "            ]]\n",
    "      },\n",
    "      \"properties\": {\n",
    "        \"id\": \"1\"\n",
    "      }\n",
    "    }\n",
    "\n",
    "feature3 = {\n",
    "      \"type\": \"Feature\",\n",
    "      \"geometry\": {\n",
    "        \"type\": \"Polygon\",\n",
    "        \"coordinates\": [[\n",
    "            [0,0],\n",
    "            [9,0],\n",
    "            [9,9],\n",
    "            [0,9]   \n",
    "        ]]\n",
    "      },\n",
    "      \"properties\": {\n",
    "        \"id\": \"2\"\n",
    "      }\n",
    "    }\n",
    " \n",
    "\n",
    "geometry = {\n",
    "  \"type\": \"Point\",\n",
    "  \"coordinates\": [13.41053, 52.52438]\n",
    "}\n",
    "\n",
    "\n",
    "gdf = index.geoJSONtoGDF(feature1)\n",
    "index.center_representative(feature3)\n"
   ]
  },
  {
   "cell_type": "code",
   "execution_count": 3,
   "metadata": {},
   "outputs": [
    {
     "data": {
      "text/plain": [
       "3.9868076527529173"
      ]
     },
     "execution_count": 3,
     "metadata": {},
     "output_type": "execute_result"
    }
   ],
   "source": [
    "import index\n",
    "import math\n",
    "import numpy\n",
    "import scipy\n",
    "\n",
    "my_array1 = [0.1,1.0,50.263,50.2635]\n",
    "my_array2 = [1,200,3000,4000,5000]\n",
    "\n",
    "my_dict = {'name': '10', 'age': 30, 'city': \"5\", 'test': 1, 'False': False, '1230': 5000}\n",
    "\n",
    "my_dict['age']\n",
    "\n",
    "# index.convertPropertyArrayToNumberArray(my_array)\n",
    "# index.convertPropertyDictToNumberDict_fromIdValueDict(my_dict)\n",
    "# index.minMaxNormalization_inverted_wholeValueArray(my_array2)\n",
    "# math.isnan(\"5\")\n",
    "# index.minMaxNormalization_inverted_fromIdValueDict(my_dict)\n",
    "\n",
    "index.geomean(my_array1)"
   ]
  }
 ],
 "metadata": {
  "kernelspec": {
   "display_name": "ppa",
   "language": "python",
   "name": "python3"
  },
  "language_info": {
   "codemirror_mode": {
    "name": "ipython",
    "version": 3
   },
   "file_extension": ".py",
   "mimetype": "text/x-python",
   "name": "python",
   "nbconvert_exporter": "python",
   "pygments_lexer": "ipython3",
   "version": "3.9.19"
  }
 },
 "nbformat": 4,
 "nbformat_minor": 2
}
