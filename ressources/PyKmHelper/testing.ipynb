{
 "cells": [
  {
   "cell_type": "code",
   "execution_count": null,
   "metadata": {},
   "outputs": [],
   "source": [
    "import turf\n",
    "import geopandas as gpd\n",
    "import geojson\n",
    "import shapely\n",
    "import fiona \n",
    "import pyinstrument\n",
    "import time\n",
    "import ogr, os\n",
    "from progress.bar import Bar\n",
    "import "
   ]
  },
  {
   "cell_type": "markdown",
   "metadata": {},
   "source": [
    "Vergleich Datenformate einlesen, schreiben, Speicheraufwand"
   ]
  },
  {
   "cell_type": "markdown",
   "metadata": {},
   "source": [
    "Das einlesen von Shape und GeoJSON weist mit zunehmender Dateigröße doch große Unterschiede auf bei Polygondateien von 77mb (Shape) und 83mb (geoJSON) benötigt geoJson ca 3mal solange zum einlesen. "
   ]
  },
  {
   "cell_type": "code",
   "execution_count": null,
   "metadata": {},
   "outputs": [],
   "source": [
    "with pyinstrument.profile():\n",
    "    hushape = gpd.read_file(r\"C:\\Users\\nikoe\\Documents\\Studium\\SHK_Kessler\\Kommonitor_pygeoapi\\Test_pyturf_etc\\hu_EPSG25832_Shape\\hu_shp.shp\")"
   ]
  },
  {
   "cell_type": "code",
   "execution_count": 10,
   "metadata": {},
   "outputs": [
    {
     "name": "stderr",
     "output_type": "stream",
     "text": [
      "\n",
      "pyinstrument ........................................\n",
      ".\n",
      ".  Block at C:\\Users\\nikoe\\AppData\\Local\\Temp\\ipykernel_16824\\3761691688.py:2\n",
      ".\n",
      ".  7.129 <module>  C:\\Users\\nikoe\\AppData\\Local\\Temp\\ipykernel_16824\\3761691688.py:2\n",
      ".  └─ 7.122 _read_file  geopandas\\io\\file.py:173\n",
      ".        [45 frames hidden]  geopandas, shapely, <built-in>, fiona...\n",
      ".  \n",
      ".....................................................\n",
      "\n",
      "\n",
      "pyinstrument ........................................\n",
      ".\n",
      ".  Block at C:\\Users\\nikoe\\AppData\\Local\\Temp\\ipykernel_16824\\3761691688.py:7\n",
      ".\n",
      ".  5.914 <module>  C:\\Users\\nikoe\\AppData\\Local\\Temp\\ipykernel_16824\\3761691688.py:7\n",
      ".  └─ 5.907 _read_file  geopandas\\io\\file.py:173\n",
      ".        [45 frames hidden]  geopandas, shapely, <built-in>, fiona...\n",
      ".  \n",
      ".....................................................\n",
      "\n",
      "\n",
      "pyinstrument ........................................\n",
      ".\n",
      ".  Block at C:\\Users\\nikoe\\AppData\\Local\\Temp\\ipykernel_16824\\3761691688.py:10\n",
      ".\n",
      ".  16.708 <module>  C:\\Users\\nikoe\\AppData\\Local\\Temp\\ipykernel_16824\\3761691688.py:10\n",
      ".  └─ 16.702 _read_file  geopandas\\io\\file.py:173\n",
      ".        [23 frames hidden]  geopandas, shapely, <built-in>, fiona...\n",
      ".           11.535 GeoDataFrame.from_features  geopandas\\geodataframe.py:567\n",
      ".           └─ 6.989 [self]  geopandas\\geodataframe.py\n",
      ".           5.154 Collection.__init__  fiona\\collection.py:51\n",
      ".  \n",
      ".....................................................\n",
      "\n"
     ]
    }
   ],
   "source": [
    "# Vergleich Datenformat: einlesen \n",
    "with pyinstrument.profile():\n",
    "    # gemShape = gpd.read_file(\"./dvg2_EPSG25832_Shape/dvg2gem_nw.shp\")\n",
    "    # schoolShape = gpd.read_file(\"./SchulenNRW_EPSG25832_Shape/schulen.shp\")\n",
    "    canopyShape = gpd.read_file(\"testoutcanopyshape.shp\")\n",
    "\n",
    "with pyinstrument.profile():\n",
    "    canopygpkg = gpd.read_file(\"testoutcanopygpkg.gpkg\")\n",
    "\n",
    "with pyinstrument.profile():\n",
    "    canopyjson = gpd.read_file(\"Canopy.geojson\")"
   ]
  },
  {
   "cell_type": "markdown",
   "metadata": {},
   "source": [
    "Das schreiben von Daten aus einem GeoDataFrame in eine Shape oder geoJson Datei weist ebenfalls gravierende Unterschiede auf. Gleiche Größe wie beim einlesen, das schreiben der geojson Datei benötigt etwa 7 mal so lange wie das einer Shape Datei. "
   ]
  },
  {
   "cell_type": "code",
   "execution_count": 11,
   "metadata": {},
   "outputs": [
    {
     "name": "stderr",
     "output_type": "stream",
     "text": [
      "\n",
      "pyinstrument ........................................\n",
      ".\n",
      ".  Block at C:\\Users\\nikoe\\AppData\\Local\\Temp\\ipykernel_16824\\3603555113.py:2\n",
      ".\n",
      ".  5.156 <module>  C:\\Users\\nikoe\\AppData\\Local\\Temp\\ipykernel_16824\\3603555113.py:2\n",
      ".  └─ 5.156 GeoDataFrame.to_file  geopandas\\geodataframe.py:1157\n",
      ".        [54 frames hidden]  geopandas, fiona, shapely, <built-in>...\n",
      ".           1.398 CoordinateSequence.__iter__  shapely\\coords.py:26\n",
      ".           └─ 1.051 [self]  shapely\\coords.py\n",
      ".  \n",
      ".....................................................\n",
      "\n",
      "\n",
      "pyinstrument ........................................\n",
      ".\n",
      ".  Block at C:\\Users\\nikoe\\AppData\\Local\\Temp\\ipykernel_16824\\3603555113.py:7\n",
      ".\n",
      ".  4.937 <module>  C:\\Users\\nikoe\\AppData\\Local\\Temp\\ipykernel_16824\\3603555113.py:7\n",
      ".  └─ 4.937 GeoDataFrame.to_file  geopandas\\geodataframe.py:1157\n",
      ".        [62 frames hidden]  geopandas, fiona, shapely, <built-in>...\n",
      ".           1.326 CoordinateSequence.__iter__  shapely\\coords.py:26\n",
      ".           └─ 1.040 [self]  shapely\\coords.py\n",
      ".  \n",
      ".....................................................\n",
      "\n",
      "\n",
      "pyinstrument ........................................\n",
      ".\n",
      ".  Block at C:\\Users\\nikoe\\AppData\\Local\\Temp\\ipykernel_16824\\3603555113.py:10\n",
      ".\n",
      ".  38.181 <module>  C:\\Users\\nikoe\\AppData\\Local\\Temp\\ipykernel_16824\\3603555113.py:10\n",
      ".  └─ 38.181 GeoDataFrame.to_file  geopandas\\geodataframe.py:1157\n",
      ".        [6 frames hidden]  geopandas, shapely\n",
      ".           38.144 Collection.writerecords  fiona\\collection.py:552\n",
      ".           └─ 36.235 [self]  fiona\\collection.py\n",
      ".  \n",
      ".....................................................\n",
      "\n"
     ]
    }
   ],
   "source": [
    "# Vergleich Datenformat: schreiben \n",
    "with pyinstrument.profile():\n",
    "    # gemShape.to_file(\"testoutshape.shp\", DRIVER=\"Shape\")\n",
    "    # schoolShape.to_file(\"testoutschoolshape.shp\", DRIVER=\"Shape\")\n",
    "    # canopyShape.to_file(\"testoutcanopyshape.shp\", DRIVER=\"shape\")\n",
    "\n",
    "with pyinstrument.profile():\n",
    "    # canopygpkg.to_file(\"testoutcanopygpkg.gpkg\", DRIVER=\"GPKG\")\n",
    "\n",
    "with pyinstrument.profile():\n",
    "    # canopyjson.to_file(\"testoutcanopyjson.geojson\", DRIVER=\"geojson\")\n"
   ]
  },
  {
   "cell_type": "code",
   "execution_count": 3,
   "metadata": {},
   "outputs": [],
   "source": [
    "with Bar('Processing...') as bar:\n",
    "    for i in range(100):\n",
    "        time.sleep(0.02)\n",
    "        bar.next()"
   ]
  },
  {
   "cell_type": "code",
   "execution_count": 2,
   "metadata": {},
   "outputs": [
    {
     "name": "stdout",
     "output_type": "stream",
     "text": [
      "    col1                                       geometry\n",
      "0  name1                        POINT (1.00000 2.00000)\n",
      "1  name2  LINESTRING (2.00000 1.00000, 1.00000 2.00000)\n"
     ]
    }
   ],
   "source": [
    "from shapely.geometry import Point, LineString\n",
    "import geopandas\n",
    "d = {'col1': ['name1', 'name2'], 'geometry': [Point(1, 2), LineString([[2, 1],[1, 2]])]}\n",
    "gdf = geopandas.GeoDataFrame(d, crs=\"EPSG:4326\")\n",
    "dict = {\"test\": gdf}\n",
    "print(dict[\"test\"])"
   ]
  },
  {
   "cell_type": "code",
   "execution_count": 15,
   "metadata": {},
   "outputs": [
    {
     "data": {
      "text/plain": [
       "{\"geometry\": null, \"properties\": {}, \"type\": \"Feature\"}"
      ]
     },
     "execution_count": 15,
     "metadata": {},
     "output_type": "execute_result"
    }
   ],
   "source": [
    "import geojson.feature\n",
    "import geopandas.geodataframe\n",
    "import shapely\n",
    "import geojson\n",
    "import index\n",
    "\n",
    "feature2 = {\n",
    "  \"type\": \"FeatureCollection\",\n",
    "  \"features\": [\n",
    "    {\n",
    "      \"type\": \"Feature\",\n",
    "      \"geometry\": {\n",
    "        \"type\": \"LineString\",\n",
    "        \"coordinates\": [\n",
    "          [10.0, 10.0],\n",
    "          [11.0, 11.0],\n",
    "          [12.0, 10.0]\n",
    "        ]\n",
    "      },\n",
    "      \"properties\": {\n",
    "        \"name\": \"Line 1\",\n",
    "        \"length\": 3.1622776601683795,\n",
    "        \"color\": \"blue\",\n",
    "        \"indicatorValue\": 0.8008282,\n",
    "        \"timestamp\": \"2000-01-23\"\n",
    "      }\n",
    "    },\n",
    "    {\n",
    "      \"type\": \"Feature\",\n",
    "      \"geometry\": {\n",
    "        \"type\": \"LineString\",\n",
    "        \"coordinates\": [\n",
    "          [15.0, 10.0],\n",
    "          [17.0, 12.0],\n",
    "          [19.0, 10.0]\n",
    "        ]\n",
    "      },\n",
    "      \"properties\": {\n",
    "        \"name\": \"Line 2\",\n",
    "        \"length\": 5.385164807134504,\n",
    "        \"color\": \"red\",\n",
    "        \"indicatorValue\": 0.8008282,\n",
    "        \"timestamp\": \"2001-01-23\"\n",
    "      }\n",
    "    }\n",
    "  ]\n",
    "}\n",
    "\n",
    "feature1 = {\n",
    "      \"type\": \"Feature\",\n",
    "      \"geometry\": {\n",
    "        \"type\": \"LineString\",\n",
    "        \"coordinates\": [\n",
    "              [10,0],\n",
    "              [10,10]\n",
    "            ]\n",
    "      },\n",
    "      \"properties\": {\n",
    "        \"id\": \"1\"\n",
    "      }\n",
    "    }\n",
    "\n",
    "feature3 = {\n",
    "      \"type\": \"Feature\",\n",
    "      \"geometry\": {\n",
    "        \"type\": \"LineString\",\n",
    "        \"coordinates\": [\n",
    "            [9.123456789012348, 0.00000000001],\n",
    "            [9.999999999999999, 9.999999999999999]\n",
    "\n",
    "        ]\n",
    "      },\n",
    "      \"properties\": {\n",
    "        \"id\": \"2\"\n",
    "      }\n",
    "    }\n",
    " \n",
    "\n",
    "geometry = {\n",
    "  \"type\": \"Point\",\n",
    "  \"coordinates\": [13.41053, 52.52438]\n",
    "}\n",
    "\n",
    "\n",
    "index.intersection(feature1, feature3)\n",
    "# gdf = index.geoJSONtoGDF(index.asFeatureCollection([feature3, feature1]))\n",
    "# gdf.geometry[1]\n",
    "# gdf = index.geoJSONtoGDF(feature3)\n",
    "# geometry = gdf.geometry[0]\n",
    "# geometry.xy"
   ]
  },
  {
   "cell_type": "code",
   "execution_count": 1,
   "metadata": {},
   "outputs": [
    {
     "data": {
      "text/plain": [
       "-1.9167454300136624"
      ]
     },
     "execution_count": 1,
     "metadata": {},
     "output_type": "execute_result"
    }
   ],
   "source": [
    "import index\n",
    "import math\n",
    "import numpy\n",
    "import scipy\n",
    "\n",
    "my_array1 = [5,2,4,2,5]\n",
    "my_array2 = [7.261964611132822, 3.723185960595712, 6.021593302111702, 9.594347817421482, 2.385717855862381, 8.830699806638898, 6.13526620975619, 1.579232649119464, 4.986749459027483, 8.44776110640915, 6.458941130642632, 1.221023285956717, 9.69068028897573, 3.455499581171543, 7.654291297126348, 5.448831829393152, 9.133758557850078, 2.861393367677146, 4.219063862074172, 6.948887581416997]\n",
    "\n",
    "my_dict1 = {'name': '10', 'age': 30, 'city': \"5\", 'False': False, '1230': 5000, 'test': 1}\n",
    "my_dict2 = {'name': '15', 'age': 0, 'city': \"7\", 'test': 1, 'False': False, '1230': 4999}\n",
    "\n",
    "dictArray = [my_dict1, my_dict2]\n",
    "\n",
    "# index.convertPropertyArrayToNumberArray(my_array)\n",
    "# index.convertPropertyDictToNumberDict_fromIdValueDict(my_dict)\n",
    "# index.minMaxNormalization_inverted_wholeValueArray(my_array2)\n",
    "# math.isnan(\"5\")\n",
    "# index.minMaxNormalization_inverted_fromIdValueDict(my_dict)\n",
    "\n",
    "# index.mean_fromIdValueDict(dictArray)\n",
    "\n",
    "index.zScore_byPopulationArray(1, my_array1, False)"
   ]
  },
  {
   "cell_type": "code",
   "execution_count": 1,
   "metadata": {},
   "outputs": [
    {
     "data": {
      "text/plain": [
       "{'ID': '1',\n",
       " 'DATE_2002-12-31': 19.548552,\n",
       " 'DATE_2003-12-31': 19.433378,\n",
       " 'DATE_2004-12-31': 19.272886,\n",
       " 'DATE_2005-12-31': 20.062555,\n",
       " 'DATE_2006-12-31': 20,\n",
       " 'DATE_2007-12-31': 19.708994,\n",
       " 'DATE_2008-12-31': 19.48168,\n",
       " 'DATE_2009-12-31': 18.101933,\n",
       " 'DATE_2010-12-31': 20.5256,\n",
       " 'DATE_2011-12-31': 21.018835,\n",
       " 'DATE_2012-12-31': 21.137556,\n",
       " 'DATE_2013-12-31': 19.7134,\n",
       " 'DATE_2014-12-31': 20.275969,\n",
       " 'DATE_2015-12-31': 18.642832,\n",
       " 'DATE_2016-12-31': 5,\n",
       " 'DATE_2017-12-31': 4,\n",
       " 'DATE_2018-12-31': 3,\n",
       " 'DATE_2019-12-31': 2,\n",
       " 'DATE_2020-12-31': 1,\n",
       " 'NAME': 'Stadtkern',\n",
       " 'validStartDate': '1990-01-01'}"
      ]
     },
     "execution_count": 1,
     "metadata": {},
     "output_type": "execute_result"
    }
   ],
   "source": [
    "import geojson\n",
    "with open(\"altenquotient_test.geojson\") as f:\n",
    "    testindicator = geojson.load(f)\n",
    "\n",
    "testindicator[\"features\"][0][\"properties\"]"
   ]
  },
  {
   "cell_type": "code",
   "execution_count": 32,
   "metadata": {},
   "outputs": [
    {
     "data": {
      "text/plain": [
       "330119999991.1235"
      ]
     },
     "execution_count": 32,
     "metadata": {},
     "output_type": "execute_result"
    }
   ],
   "source": [
    "import shapely\n",
    "\n",
    "point = [0.000000000000001, 330119999991.123456789]\n",
    "point = shapely.Point(point)\n",
    "feature = geojson.Feature(geometry=point)\n",
    "feature[\"geometry\"][\"coordinates\"][1]"
   ]
  },
  {
   "cell_type": "code",
   "execution_count": 2,
   "metadata": {},
   "outputs": [
    {
     "ename": "Exception",
     "evalue": "Tried to acquire a process parameter with name 'test', but the Array of processParameter Dictionarys does not contain such an entry",
     "output_type": "error",
     "traceback": [
      "\u001b[1;31m---------------------------------------------------------------------------\u001b[0m",
      "\u001b[1;31mException\u001b[0m                                 Traceback (most recent call last)",
      "Cell \u001b[1;32mIn[2], line 6\u001b[0m\n\u001b[0;32m      3\u001b[0m \u001b[38;5;28mdict\u001b[39m \u001b[38;5;241m=\u001b[39m {\u001b[38;5;124m\"\u001b[39m\u001b[38;5;124mname\u001b[39m\u001b[38;5;124m\"\u001b[39m: \u001b[38;5;124m\"\u001b[39m\u001b[38;5;124mtest1\u001b[39m\u001b[38;5;124m\"\u001b[39m, \u001b[38;5;124m\"\u001b[39m\u001b[38;5;124mvalue\u001b[39m\u001b[38;5;124m\"\u001b[39m: \u001b[38;5;124m\"\u001b[39m\u001b[38;5;124m5\u001b[39m\u001b[38;5;124m\"\u001b[39m, \u001b[38;5;124m\"\u001b[39m\u001b[38;5;124mdataType\u001b[39m\u001b[38;5;124m\"\u001b[39m: [\u001b[38;5;28mint\u001b[39m, \u001b[38;5;28mstr\u001b[39m]}\n\u001b[0;32m      4\u001b[0m array \u001b[38;5;241m=\u001b[39m [\u001b[38;5;28mdict\u001b[39m]\n\u001b[1;32m----> 6\u001b[0m \u001b[43mindex\u001b[49m\u001b[38;5;241;43m.\u001b[39;49m\u001b[43mgetProcessParameterByName_asNumber\u001b[49m\u001b[43m(\u001b[49m\u001b[38;5;124;43m\"\u001b[39;49m\u001b[38;5;124;43mtest\u001b[39;49m\u001b[38;5;124;43m\"\u001b[39;49m\u001b[43m,\u001b[49m\u001b[43m \u001b[49m\u001b[43marray\u001b[49m\u001b[43m)\u001b[49m\n",
      "File \u001b[1;32mc:\\Users\\nikoe\\Documents\\GitHub\\processes-api\\ressources\\PyKmHelper\\index.py:157\u001b[0m, in \u001b[0;36mgetProcessParameterByName_asNumber\u001b[1;34m(parameterName, processParameters)\u001b[0m\n\u001b[0;32m    154\u001b[0m             throwError(\u001b[38;5;124m\"\u001b[39m\u001b[38;5;124mError while parsing parameter value \u001b[39m\u001b[38;5;124m'\u001b[39m\u001b[38;5;124m\"\u001b[39m \u001b[38;5;241m+\u001b[39m \u001b[38;5;28mstr\u001b[39m(parameter[\u001b[38;5;124m\"\u001b[39m\u001b[38;5;124mvalue\u001b[39m\u001b[38;5;124m\"\u001b[39m]) \u001b[38;5;241m+\u001b[39m \u001b[38;5;124m\"\u001b[39m\u001b[38;5;124m'\u001b[39m\u001b[38;5;124m from parameter with name \u001b[39m\u001b[38;5;124m'\u001b[39m\u001b[38;5;124m\"\u001b[39m \u001b[38;5;241m+\u001b[39m \u001b[38;5;28mstr\u001b[39m(parameterName) \u001b[38;5;241m+\u001b[39m \u001b[38;5;124m\"\u001b[39m\u001b[38;5;124m'\u001b[39m\u001b[38;5;124m as float.\u001b[39m\u001b[38;5;124m\"\u001b[39m)\n\u001b[0;32m    156\u001b[0m \u001b[38;5;28;01mif\u001b[39;00m value \u001b[38;5;129;01mis\u001b[39;00m \u001b[38;5;28;01mNone\u001b[39;00m:\n\u001b[1;32m--> 157\u001b[0m     \u001b[43mthrowError\u001b[49m\u001b[43m(\u001b[49m\u001b[38;5;124;43mf\u001b[39;49m\u001b[38;5;124;43m\"\u001b[39;49m\u001b[38;5;124;43mTried to acquire a process parameter with name \u001b[39;49m\u001b[38;5;124;43m'\u001b[39;49m\u001b[38;5;124;43m\"\u001b[39;49m\u001b[43m \u001b[49m\u001b[38;5;241;43m+\u001b[39;49m\u001b[43m \u001b[49m\u001b[38;5;28;43mstr\u001b[39;49m\u001b[43m(\u001b[49m\u001b[43mparameterName\u001b[49m\u001b[43m)\u001b[49m\u001b[43m \u001b[49m\u001b[38;5;241;43m+\u001b[39;49m\u001b[43m \u001b[49m\u001b[38;5;124;43m\"\u001b[39;49m\u001b[38;5;124;43m'\u001b[39;49m\u001b[38;5;124;43m, but the Array of processParameter Dictionarys does not contain such an entry\u001b[39;49m\u001b[38;5;124;43m\"\u001b[39;49m\u001b[43m)\u001b[49m\n\u001b[0;32m    159\u001b[0m \u001b[38;5;28;01mreturn\u001b[39;00m value\n",
      "File \u001b[1;32mc:\\Users\\nikoe\\Documents\\GitHub\\processes-api\\ressources\\PyKmHelper\\index.py:227\u001b[0m, in \u001b[0;36mthrowError\u001b[1;34m(message)\u001b[0m\n\u001b[0;32m    218\u001b[0m \u001b[38;5;28;01mdef\u001b[39;00m \u001b[38;5;21mthrowError\u001b[39m(message):\n\u001b[0;32m    219\u001b[0m \u001b[38;5;250m    \u001b[39m\u001b[38;5;124;03m\"\"\"Throw an Error Object with a custom Messgae\u001b[39;00m\n\u001b[0;32m    220\u001b[0m \n\u001b[0;32m    221\u001b[0m \u001b[38;5;124;03m    Args:\u001b[39;00m\n\u001b[1;32m   (...)\u001b[0m\n\u001b[0;32m    225\u001b[0m \u001b[38;5;124;03m        Exception: throws the exception\u001b[39;00m\n\u001b[0;32m    226\u001b[0m \u001b[38;5;124;03m    \"\"\"\u001b[39;00m\n\u001b[1;32m--> 227\u001b[0m     \u001b[38;5;28;01mraise\u001b[39;00m \u001b[38;5;167;01mException\u001b[39;00m(message)\n",
      "\u001b[1;31mException\u001b[0m: Tried to acquire a process parameter with name 'test', but the Array of processParameter Dictionarys does not contain such an entry"
     ]
    }
   ],
   "source": [
    "import index\n",
    "\n",
    "dict = {\"name\": \"test1\", \"value\": \"5\", \"dataType\": [int, str]}\n",
    "array = [dict]\n",
    "\n",
    "index.getProcessParameterByName_asNumber(\"test\", array)"
   ]
  }
 ],
 "metadata": {
  "kernelspec": {
   "display_name": "ppa",
   "language": "python",
   "name": "python3"
  },
  "language_info": {
   "codemirror_mode": {
    "name": "ipython",
    "version": 3
   },
   "file_extension": ".py",
   "mimetype": "text/x-python",
   "name": "python",
   "nbconvert_exporter": "python",
   "pygments_lexer": "ipython3",
   "version": "3.9.19"
  }
 },
 "nbformat": 4,
 "nbformat_minor": 2
}
